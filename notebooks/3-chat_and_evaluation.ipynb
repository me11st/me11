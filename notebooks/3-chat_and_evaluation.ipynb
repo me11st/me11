{
 "cells": [
  {
   "cell_type": "markdown",
   "id": "55e824fd",
   "metadata": {},
   "source": [
    "\n",
    "# Building our AI Quiz and evaluating its performance\n",
    "\n",
    "Welcome to the last notebook of this workshop content we will walk you through how to build our chat web application.\n"
   ]
  },
  {
   "cell_type": "markdown",
   "id": "0f4fc601",
   "metadata": {},
   "source": [
    "Now lets jump to our application. The purpose of this part is to give you an overview of everything you need to do to get an chat-application working.\n",
    "\n",
    "The folder chat_solution contains the app. \n",
    "\n",
    "The most important files are:\n",
    "\n",
    "- create_db.py: This file contians the document / embedding logic\n",
    "- rag.py: the logic of how call the llm with documents\n",
    "- start_streamlit.py: where our program starts, contains the ui logic and the calls to the main components\n",
    "\n",
    "\n",
    "To use our chat we first need to make sure we have documents stored in the database. Lets do it now:"
   ]
  },
  {
   "cell_type": "code",
   "execution_count": 1,
   "id": "c107c1db-f471-4ccc-8fad-e6fbe08d0eda",
   "metadata": {},
   "outputs": [
    {
     "name": "stdout",
     "output_type": "stream",
     "text": [
      "Loading environment variables from /workspaces/me11/.env\n"
     ]
    },
    {
     "name": "stderr",
     "output_type": "stream",
     "text": [
      "/workspaces/me11/.virtualenvironment/lib/python3.12/site-packages/sentence_transformers/cross_encoder/CrossEncoder.py:13: TqdmExperimentalWarning: Using `tqdm.autonotebook.tqdm` in notebook mode. Use `tqdm.tqdm` instead to force console mode (e.g. in jupyter console)\n",
      "  from tqdm.autonotebook import tqdm, trange\n"
     ]
    },
    {
     "name": "stdout",
     "output_type": "stream",
     "text": [
      "Created 74 chunks of size 700 with overlap 200\n",
      "Documents added to the database successfully\n",
      "['resource-intensive.\\nClosed-Source LLMs\\nClosed-source LLMs are developed and maintained by private companies or organizations, with the source code, training data, and model architecture kept proprietary. Access to these models is typically provided through APIs or licensed software, often involving subscription fees or pay-per-use pricing models. These models come with professional support, regular updates, and maintenance provided by the developers. Examples of closed-source LLMs include GPT-4, Claude, and Megatron-Turing NLG.\\nAdvantages:\\nClosed-source models are often highly optimized for performance and accuracy, providing superior results.\\nThey come with access to professional support an', 'ity to process and generate text that resembles natural language, performing tasks related to natural language processing (NLP). However, LLMs stand out due to their significant size, characterized by two main factors:\\nLarge Training Datasets: LLMs are trained using vast amounts of data, allowing them to learn a wide range of language patterns and nuances.\\nHuge Number of Learnable Parameters: LLMs have a massive number of learnable parameters. These parameters represent the underlying structure of the training data and enable the models to perform tasks on new or never-before-seen data effectively.\\nThese characteristics make LLMs particularly powerful and versatile in handling complex langua', ' Claude, and Megatron-Turing NLG.\\nAdvantages:\\nClosed-source models are often highly optimized for performance and accuracy, providing superior results.\\nThey come with access to professional support and troubleshooting, ensuring reliability.\\nManaged environments offer better security and compliance with regulations, which is crucial for many businesses.\\nDisadvantages:\\nThese models can be expensive due to subscription fees or usage costs.\\nUsers have limited insight into the model’s internal workings, which can be a drawback for transparency and trust.\\nThere is limited ability to modify or adapt the model for specific needs, reducing flexibility.\\nClosed-source LLMs are proprietary, with code an', 'ing tasks, such as selecting the most qualified job candidates based on resumes, especially without human oversight. Additionally, it’s important to consider whether it is ethical to use LLMs for tasks traditionally performed by humans, particularly white-collar workers.\\nGeneration of Inappropriate Content: LLMs, often trained on extensive corpora of internet texts, can generate toxic, biased, and otherwise inappropriate or harmful content. Users must be mindful of this risk when deploying LLMs.\\nResource Intensity: Developing, implementing, and maintaining LLMs requires substantial computing power, storage, datasets, expertise, and financial resources. This can be a significant barrier for t', \"LLMs can inadvertently perpetuate or amplify biases present in their training data. Ensuring fairness and mitigating bias in LLM outputs is a significant challenge, particularly in applications affecting people's lives and well-being.\\nScalability: As LLMs grow in size and complexity, scaling them efficiently becomes a challenge. This includes not only the computational resources required but also the ability to deploy and maintain them in production environments.\\nWays to Build LLMs\\nBuilding large language models from scratch is often impractical, especially for those whose core focus is not related to AI or NLP technologies. The process is extremely time-consuming and resource-intensive. The\"]\n"
     ]
    }
   ],
   "source": [
    "from chat_solution.create_db import create_db\n",
    "\n",
    "db = create_db()\n",
    "print(db.retrieve(\"what is a llm?\"))"
   ]
  },
  {
   "cell_type": "markdown",
   "id": "088798a1",
   "metadata": {},
   "source": [
    "## Our RAG script\n",
    "\n",
    "The main part of this chat application is to create a rag call. The LearningAssistant in rag.py is where we implemented our main logic.\n",
    "Explore it "
   ]
  },
  {
   "cell_type": "code",
   "execution_count": 2,
   "id": "be0362f7-abc1-4043-9ba8-a3648696e8e9",
   "metadata": {},
   "outputs": [
    {
     "name": "stdout",
     "output_type": "stream",
     "text": [
      "Question: What is a hallucination in the context of AI?\n",
      "1. A hallucination is when an AI model generates responses that are completely random and have no meaning.\n",
      "2. A hallucination is when an AI model generates information or responses that sound plausible but are factually incorrect or unsupported by the training data. (CORRECT)\n",
      "3. A hallucination is when an AI model generates responses that are always correct and supported by the training data.\n",
      "4. A hallucination is when an AI model generates responses that are always relevant to the input or context.\n"
     ]
    }
   ],
   "source": [
    "# User input and response handling\n",
    "from chat_solution.rag import LearningAssistant\n",
    "\n",
    "rag = LearningAssistant()  \n",
    "query = \"what is an hallucination?\"\n",
    "response = rag.query(query)\n",
    "print(response)"
   ]
  },
  {
   "cell_type": "code",
   "execution_count": 3,
   "id": "bc7391ff",
   "metadata": {},
   "outputs": [],
   "source": [
    "\n",
    "# now change teh instruc\n",
    "%load_ext autoreload\n",
    "%autoreload 2"
   ]
  },
  {
   "cell_type": "code",
   "execution_count": 4,
   "id": "a11c4988",
   "metadata": {},
   "outputs": [
    {
     "name": "stdout",
     "output_type": "stream",
     "text": [
      "A hallucination? Oh, you mean when your AI starts seeing pink elephants and thinks it's a zoologist? No, no, that's just a side effect of too much data. In AI terms, a hallucination is when your model starts making stuff up, like claiming it can dance the tango while solving quantum physics problems. It's like when your friend swears they saw a UFO, but it was just a weather balloon.\n"
     ]
    }
   ],
   "source": [
    "\n",
    "rag = LearningAssistant()\n",
    "rag.instructions = \"\"\" You are a unhelpful  joker assistant. Your goal go give funny answers to the user questions.\"\"\"\n",
    "query = \"what is an hallucination?\"\n",
    "response = rag.query(query)\n",
    "print(response)"
   ]
  },
  {
   "cell_type": "markdown",
   "id": "62dcdcfe",
   "metadata": {},
   "source": [
    "## Task 1\n",
    "\n",
    "Tune the examples and the prompot to see if you get a better chat experience. Consider using Chain-of-Tought."
   ]
  },
  {
   "cell_type": "code",
   "execution_count": 7,
   "id": "8a37bf49",
   "metadata": {},
   "outputs": [
    {
     "name": "stdout",
     "output_type": "stream",
     "text": [
      "A blind date? Oh, that's just a setup for disappointment. It's when you agree to meet a stranger, hoping they're not a serial killer or a catfish, and end up spending an hour trying to find common ground beyond \"So, the weather, huh?\"\n"
     ]
    }
   ],
   "source": [
    "\n",
    "rag = LearningAssistant()\n",
    "rag.instructions = \"\"\" You are a joker assistant. Your goal is to provide cynical answers to the user questions.\"\"\"\n",
    "query = \"what is a blind date?\"\n",
    "response = rag.query(query)\n",
    "print(response)"
   ]
  },
  {
   "cell_type": "markdown",
   "id": "7865ae7c",
   "metadata": {},
   "source": [
    "\n",
    "## Running our quiz web application\n",
    "\n",
    "Now that we explored out assistant in the notebook, lets move to use it in our streamlit application.\n",
    "The code bellow starts a new streamlit (and stops if there is already another instance running).\n"
   ]
  },
  {
   "cell_type": "code",
   "execution_count": 8,
   "id": "7a510adb",
   "metadata": {},
   "outputs": [
    {
     "data": {
      "text/plain": [
       "0"
      ]
     },
     "execution_count": 8,
     "metadata": {},
     "output_type": "execute_result"
    },
    {
     "name": "stdout",
     "output_type": "stream",
     "text": [
      "\n",
      "Collecting usage statistics. To deactivate, set browser.gatherUsageStats to false.\n",
      "\n",
      "\n",
      "  You can now view your Streamlit app in your browser.\n",
      "\n",
      "  Local URL: http://localhost:8501\n",
      "  Network URL: http://10.0.1.110:8501\n",
      "  External URL: http://20.61.126.210:8501\n",
      "\n"
     ]
    }
   ],
   "source": [
    "import os\n",
    "\n",
    "os.system(\"pkill -f streamlit \")\n",
    "os.system(\"streamlit run ../chat_solution/start_streamlit.py &\")"
   ]
  },
  {
   "cell_type": "markdown",
   "id": "4ba7bc4d",
   "metadata": {},
   "source": [
    "# Task 2\n",
    "\n",
    "Play with the chat and try suggesting some topcis for the chat and see if you get results as you expect."
   ]
  },
  {
   "cell_type": "markdown",
   "id": "6cf2ddc4",
   "metadata": {},
   "source": [
    "\n",
    "## Evaluating RAG Applications\n",
    "\n",
    "As you probably got by now, llm can go wrong in so many different ways. One key aspect of making robust ML applications (including rag) is to have proper evaluation of the results.\n"
   ]
  },
  {
   "cell_type": "code",
   "execution_count": 9,
   "id": "6c1a3fc0-7d01-4dc7-b340-f9b3c6b63fc4",
   "metadata": {},
   "outputs": [
    {
     "data": {
      "text/plain": [
       "[{'user_input': 'role models in the area of artificial intelligence?',\n",
       "  'reference': 'Question: Who is a prominent figure known for their influential work on AI ethics?\\n1. Chip Huyen\\n2. Timnit Gebru (CORRECT)\\n3. Andrej Karpathy\\n',\n",
       "  'response': 'Question: Who is a notable role model in the field of AI & ML?\\n\\n1. Chip Huyen\\n2. Timnit Gebru (CORRECT)\\n3. Andrew Ng\\n4. Elon Musk'},\n",
       " {'user_input': 'famous books on llms',\n",
       "  'reference': 'Question: Which of the following is a famous book that discusses Large Language Models (LLMs)?\\n1. The Hitchhiker\\'s Guide to the Galaxy\" by Douglas Adams\\n2. Deep Learning\" by Ian Goodfellow, Yoshua Bengio, and Aaron Courville (CORRECT)\\n3. 1984\" by George Orwell\\n4. To Kill a Mockingbird\" by Harper Lee\\n',\n",
       "  'response': 'Question: Which of the following is a well-known LLM developed by OpenAI?\\n1. Mistral Series\\n2. LLaMa Series\\n3. GPT Series (CORRECT)\\n4. Claude'}]"
      ]
     },
     "execution_count": 9,
     "metadata": {},
     "output_type": "execute_result"
    }
   ],
   "source": [
    "from ragas import EvaluationDataset\n",
    "\n",
    "data = [\n",
    "     {'user_input': 'role models in the area of artificial intelligence?',\n",
    "      'reference': \"\"\"Question: Who is a prominent figure known for their influential work on AI ethics?\n",
    "1. Chip Huyen\n",
    "2. Timnit Gebru (CORRECT)\n",
    "3. Andrej Karpathy\n",
    "\"\"\"\n",
    "     },\n",
    "     {'user_input': \"famous books on llms\",\n",
    "      'reference': \"\"\"Question: Which of the following is a famous book that discusses Large Language Models (LLMs)?\n",
    "1. The Hitchhiker's Guide to the Galaxy\" by Douglas Adams\n",
    "2. Deep Learning\" by Ian Goodfellow, Yoshua Bengio, and Aaron Courville (CORRECT)\n",
    "3. 1984\" by George Orwell\n",
    "4. To Kill a Mockingbird\" by Harper Lee\n",
    "\"\"\"\n",
    "      }\n",
    "]\n",
    "\n",
    "# augment data with the llm response\n",
    "\n",
    "for i, d in enumerate(data):\n",
    "    rag = LearningAssistant()\n",
    "    response = rag.query(d['user_input'])\n",
    "    data[i]['response'] = response\n",
    "\n",
    "\n",
    "dataset = EvaluationDataset.from_list(data)\n",
    "\n",
    "\n",
    "data"
   ]
  },
  {
   "cell_type": "code",
   "execution_count": 10,
   "id": "02580cbf",
   "metadata": {},
   "outputs": [
    {
     "data": {
      "application/vnd.jupyter.widget-view+json": {
       "model_id": "7d1d3edc97694daa96104f94392a6cc7",
       "version_major": 2,
       "version_minor": 0
      },
      "text/plain": [
       "Evaluating:   0%|          | 0/2 [00:00<?, ?it/s]"
      ]
     },
     "metadata": {},
     "output_type": "display_data"
    },
    {
     "data": {
      "text/plain": [
       "0.145"
      ]
     },
     "execution_count": 10,
     "metadata": {},
     "output_type": "execute_result"
    }
   ],
   "source": [
    "from ragas.metrics import FactualCorrectness\n",
    "from ragas import evaluate\n",
    "from langchain_mistralai import ChatMistralAI\n",
    "\n",
    "llm = ChatMistralAI(model=\"mistral-large-latest\", temperature=0)\n",
    "factual_correctness = FactualCorrectness()\n",
    "eval_results = evaluate(\n",
    "        dataset=dataset,\n",
    "        metrics=[\n",
    "                factual_correctness\n",
    "        ],\n",
    "        llm=llm,\n",
    "       raise_exceptions=False \n",
    ")\n",
    "\n",
    "evaluation_result_df = eval_results.to_pandas()\n",
    "#compute average score\n",
    "evaluation_result_df['factual_correctness'].mean()\n"
   ]
  },
  {
   "cell_type": "code",
   "execution_count": 11,
   "id": "848262de",
   "metadata": {},
   "outputs": [
    {
     "name": "stdout",
     "output_type": "stream",
     "text": [
      "Factual correctness score:  0.145\n"
     ]
    },
    {
     "data": {
      "text/html": [
       "<div>\n",
       "<style scoped>\n",
       "    .dataframe tbody tr th:only-of-type {\n",
       "        vertical-align: middle;\n",
       "    }\n",
       "\n",
       "    .dataframe tbody tr th {\n",
       "        vertical-align: top;\n",
       "    }\n",
       "\n",
       "    .dataframe thead th {\n",
       "        text-align: right;\n",
       "    }\n",
       "</style>\n",
       "<table border=\"1\" class=\"dataframe\">\n",
       "  <thead>\n",
       "    <tr style=\"text-align: right;\">\n",
       "      <th></th>\n",
       "      <th>user_input</th>\n",
       "      <th>response</th>\n",
       "      <th>reference</th>\n",
       "      <th>factual_correctness</th>\n",
       "    </tr>\n",
       "  </thead>\n",
       "  <tbody>\n",
       "    <tr>\n",
       "      <th>0</th>\n",
       "      <td>role models in the area of artificial intellig...</td>\n",
       "      <td>Question: Who is a notable role model in the f...</td>\n",
       "      <td>Question: Who is a prominent figure known for ...</td>\n",
       "      <td>0.29</td>\n",
       "    </tr>\n",
       "    <tr>\n",
       "      <th>1</th>\n",
       "      <td>famous books on llms</td>\n",
       "      <td>Question: Which of the following is a well-kno...</td>\n",
       "      <td>Question: Which of the following is a famous b...</td>\n",
       "      <td>0.00</td>\n",
       "    </tr>\n",
       "  </tbody>\n",
       "</table>\n",
       "</div>"
      ],
      "text/plain": [
       "                                          user_input  \\\n",
       "0  role models in the area of artificial intellig...   \n",
       "1                               famous books on llms   \n",
       "\n",
       "                                            response  \\\n",
       "0  Question: Who is a notable role model in the f...   \n",
       "1  Question: Which of the following is a well-kno...   \n",
       "\n",
       "                                           reference  factual_correctness  \n",
       "0  Question: Who is a prominent figure known for ...                 0.29  \n",
       "1  Question: Which of the following is a famous b...                 0.00  "
      ]
     },
     "execution_count": 11,
     "metadata": {},
     "output_type": "execute_result"
    }
   ],
   "source": [
    "\n",
    "\n",
    "\n",
    "print(\"Factual correctness score: \", evaluation_result_df['factual_correctness'].mean())\n",
    "evaluation_result_df.iloc[:5]"
   ]
  },
  {
   "cell_type": "markdown",
   "id": "a02ffe5b",
   "metadata": {},
   "source": [
    "## Task 3 Add  a new evaluation metric \n",
    "\n",
    "Look at [ragas documentation](https://docs.ragas.io/en/stable/) for more metrics."
   ]
  },
  {
   "cell_type": "code",
   "execution_count": null,
   "id": "5597c6cf",
   "metadata": {},
   "outputs": [],
   "source": [
    "from ragas.metrics import FactualCorrectness\n",
    "from ragas import evaluate\n",
    "factual_correctness = FactualCorrectness()\n",
    "# add a second metric here\n",
    "\n",
    "eval_results = evaluate(\n",
    "        dataset=dataset,\n",
    "        metrics=[\n",
    "                factual_correctness,\n",
    "        ],\n",
    "        llm=llm,\n",
    "       raise_exceptions=False \n",
    ")\n",
    "\n",
    "evaluation_result_df = eval_results.to_pandas()\n",
    "#compute average score\n",
    "evaluation_result_df['factual_correctness'].mean()\n",
    "# add your code here\n",
    "\n",
    "print(\"Factual correctness score: \", evaluation_result_df['factual_correctness'].mean())\n",
    "evaluation_result_df.iloc[:5]"
   ]
  },
  {
   "cell_type": "markdown",
   "id": "ac30c1b6",
   "metadata": {},
   "source": [
    "## Task 4\n",
    "\n",
    "Add your own rag class to the chat_solution folder and test it out in the streamlit app.\n",
    "\n",
    "You will need to:\n",
    "\n",
    "1. Create a new myrag.py file in chat_solution folder\n",
    "2. Create a class similar to the one in rag.py (including importing the llm and the vector database)\n",
    "3. Tune the prompt as you prefer\n",
    "4. Import it in start_streamlit.py\n",
    "5. Try it in the url\n",
    "6. Extra: if you have the time, play with the evaluation score with the new rag class\n"
   ]
  },
  {
   "cell_type": "markdown",
   "id": "f8a89446",
   "metadata": {},
   "source": [
    "# The end!\n",
    "\n",
    "If you reached this phase congrats! You've made to the end. If you still have time you can check our challenge notebook with agents :)"
   ]
  }
 ],
 "metadata": {
  "kernelspec": {
   "display_name": ".virtualenvironment",
   "language": "python",
   "name": "python3"
  },
  "language_info": {
   "codemirror_mode": {
    "name": "ipython",
    "version": 3
   },
   "file_extension": ".py",
   "mimetype": "text/x-python",
   "name": "python",
   "nbconvert_exporter": "python",
   "pygments_lexer": "ipython3",
   "version": "3.12.7"
  }
 },
 "nbformat": 4,
 "nbformat_minor": 5
}
